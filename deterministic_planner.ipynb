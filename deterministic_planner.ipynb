{
 "cells": [
  {
   "cell_type": "code",
   "execution_count": 1,
   "metadata": {
    "ExecuteTime": {
     "end_time": "2024-12-03T20:46:14.968579Z",
     "start_time": "2024-12-03T20:46:14.964394Z"
    },
    "collapsed": false,
    "jupyter": {
     "outputs_hidden": false
    }
   },
   "outputs": [],
   "source": [
    "########################################## Deterministic planning ##########################################\n",
    "\n",
    "# This Jupyter Notebook performs a deterministic planning simulation for energy investment and cost optimization.\n",
    "# It includes the following steps:\n",
    "\n",
    "# 1. Initialization of parameters.\n",
    "# 2. Calculation of terminal value function using a deterministic approach with a reference scenario.\n",
    "# 3. Execution of a backward algorithm to optimize investment decisions over time.\n",
    "# 4. Determination of initial investment values.\n",
    "# 5. Saving the optimal investment path and exporting the results."
   ]
  },
  {
   "cell_type": "code",
   "execution_count": 2,
   "metadata": {
    "ExecuteTime": {
     "end_time": "2024-12-03T20:46:19.234582Z",
     "start_time": "2024-12-03T20:46:14.977086Z"
    },
    "collapsed": false,
    "jupyter": {
     "outputs_hidden": false
    }
   },
   "outputs": [
    {
     "name": "stdout",
     "output_type": "stream",
     "text": [
      "Directories created at: outputs/batch_simulations_Test\n",
      "Simulation name: Test\n",
      "Coal phase-out: n\n",
      "Carbon tax: n\n"
     ]
    }
   ],
   "source": [
    "from results_writing import save_results_to_csv\n",
    "from simulation_parameters import *\n",
    "from load import *\n",
    "from capacity_factors import CapacityFactor\n",
    "from cost_functions import IterativeFunctions, InvestmentFunctions\n",
    "from gradient_boost import GradientBoostingModel\n",
    "from constraints import Constraints\n",
    "\n",
    "sns.set_style('darkgrid')\n",
    "plt.rcParams[\"figure.dpi\"] = 500\n",
    "np.set_printoptions(suppress=True, precision=5)\n",
    "seed = 42\n",
    "\n",
    "iterative_functions = IterativeFunctions()\n",
    "cost_parameters = CostParameters()\n",
    "investment_parameters = InvestmentParameters()\n",
    "capacity_factors = CapacityFactor()\n",
    "simu_parameters = SimulationParameters()\n",
    "gradient_parameters = GradientParameters()\n",
    "tech_parameters = TechnoParameters()\n",
    "gen_scenario = Scenario()\n",
    "d_reference = gen_scenario.average_scenario\n",
    "investment_functions = InvestmentFunctions()\n",
    "constraints = Constraints(simu_parameters.lambda_weight, simu_parameters.mu_weight, simu_parameters.kappa_weight, simu_parameters.nu_weight)\n",
    "pct = cost_parameters.pc\n",
    "\n",
    "time_start = time.time() \n",
    "\n",
    "print(\"Simulation name: \" + simu_parameters.name)\n",
    "print(\"Coal phase-out: \" + simu_parameters.coal_phase_out)\n",
    "print(\"Carbon tax: \" + simu_parameters.carbon_tax)\n"
   ]
  },
  {
   "cell_type": "code",
   "execution_count": 3,
   "metadata": {
    "ExecuteTime": {
     "end_time": "2024-12-03T20:46:22.032572Z",
     "start_time": "2024-12-03T20:46:20.021963Z"
    },
    "collapsed": false,
    "jupyter": {
     "outputs_hidden": false
    }
   },
   "outputs": [
    {
     "name": "stderr",
     "output_type": "stream",
     "text": [
      "  0%|          | 0/6 [00:00<?, ?it/s]"
     ]
    },
    {
     "name": "stdout",
     "output_type": "stream",
     "text": [
      "Year 17: Beginning...\n",
      "Reference: Expected value\n"
     ]
    },
    {
     "data": {
      "application/vnd.jupyter.widget-view+json": {
       "model_id": "350a8f755f7c4ac88f5e0758e001ebf1",
       "version_major": 2,
       "version_minor": 0
      },
      "text/plain": [
       "  0%|          | 0/68 [00:00<?, ?it/s]"
      ]
     },
     "metadata": {},
     "output_type": "display_data"
    },
    {
     "name": "stderr",
     "output_type": "stream",
     "text": [
      "  0%|          | 0/6 [00:00<?, ?it/s]\n"
     ]
    },
    {
     "ename": "KeyboardInterrupt",
     "evalue": "",
     "output_type": "error",
     "traceback": [
      "\u001b[0;31m---------------------------------------------------------------------------\u001b[0m",
      "\u001b[0;31mKeyboardInterrupt\u001b[0m                         Traceback (most recent call last)",
      "Cell \u001b[0;32mIn[3], line 37\u001b[0m\n\u001b[1;32m     33\u001b[0m         pgt \u001b[38;5;241m=\u001b[39m cost_parameters\u001b[38;5;241m.\u001b[39mpg[d] \u001b[38;5;241m*\u001b[39m f_evol\n\u001b[1;32m     35\u001b[0m \u001b[38;5;28;01mfor\u001b[39;00m w, s, g \u001b[38;5;129;01min\u001b[39;00m product(\u001b[38;5;28mrange\u001b[39m(\u001b[38;5;28mlen\u001b[39m(tech_parameters\u001b[38;5;241m.\u001b[39mkw)), \u001b[38;5;28mrange\u001b[39m(\u001b[38;5;28mlen\u001b[39m(tech_parameters\u001b[38;5;241m.\u001b[39mks)), \n\u001b[1;32m     36\u001b[0m                        \u001b[38;5;28mrange\u001b[39m(\u001b[38;5;28mlen\u001b[39m(tech_parameters\u001b[38;5;241m.\u001b[39mkg))):\n\u001b[0;32m---> 37\u001b[0m     cost_output \u001b[38;5;241m=\u001b[39m \u001b[43miterative_functions\u001b[49m\u001b[38;5;241;43m.\u001b[39;49m\u001b[43mcost\u001b[49m\u001b[43m(\u001b[49m\u001b[43mtech_parameters\u001b[49m\u001b[38;5;241;43m.\u001b[39;49m\u001b[43mkw\u001b[49m\u001b[43m[\u001b[49m\u001b[43mw\u001b[49m\u001b[43m]\u001b[49m\u001b[43m,\u001b[49m\u001b[43m \u001b[49m\u001b[43mtech_parameters\u001b[49m\u001b[38;5;241;43m.\u001b[39;49m\u001b[43mkg\u001b[49m\u001b[43m[\u001b[49m\u001b[43mg\u001b[49m\u001b[43m]\u001b[49m\u001b[43m,\u001b[49m\u001b[43m \u001b[49m\n\u001b[1;32m     38\u001b[0m \u001b[43m                                           \u001b[49m\u001b[43mkct\u001b[49m\u001b[43m,\u001b[49m\u001b[43m \u001b[49m\u001b[43mtech_parameters\u001b[49m\u001b[38;5;241;43m.\u001b[39;49m\u001b[43mks\u001b[49m\u001b[43m[\u001b[49m\u001b[43ms\u001b[49m\u001b[43m]\u001b[49m\u001b[43m,\u001b[49m\u001b[43m \u001b[49m\u001b[43mload\u001b[49m\u001b[43m,\u001b[49m\u001b[43m \u001b[49m\u001b[43msolar_cap\u001b[49m\u001b[43m,\u001b[49m\u001b[43m \u001b[49m\u001b[43mwind_cap\u001b[49m\u001b[43m,\u001b[49m\u001b[43m \u001b[49m\u001b[43mpgt\u001b[49m\u001b[43m,\u001b[49m\u001b[43m \u001b[49m\u001b[43mpct\u001b[49m\u001b[43m,\u001b[49m\u001b[43m \u001b[49m\u001b[43mctax\u001b[49m\u001b[43m)\u001b[49m\n\u001b[1;32m     39\u001b[0m     cost \u001b[38;5;241m=\u001b[39m cost_output[\u001b[38;5;241m0\u001b[39m]\u001b[38;5;241m.\u001b[39msum()\n\u001b[1;32m     40\u001b[0m     carbon_realised \u001b[38;5;241m=\u001b[39m cost_output[\u001b[38;5;241m1\u001b[39m]\u001b[38;5;241m.\u001b[39msum()\n",
      "File \u001b[0;32m~/python_projects/DynamicInvestmentPrograming/cost_functions.py:130\u001b[0m, in \u001b[0;36mIterativeFunctions.cost\u001b[0;34m(self, kwt, kgt, kct, kst, load, pv_cap, wind_cap, pgt, pct, ctax)\u001b[0m\n\u001b[1;32m    128\u001b[0m qpvt, cost_pvt, mc_pvt, qrt, cost_rt, mc_rt \u001b[38;5;241m=\u001b[39m \u001b[38;5;28mself\u001b[39m\u001b[38;5;241m.\u001b[39mcost_res(kst, kwt, pv_cap, wind_cap, load)\n\u001b[1;32m    129\u001b[0m qgt, cost_gt, mc_gt, qct, cost_ct, mc_ct, qPeakt, cost_peak_t, mc_peak_t, default, cost_default_t, mc_default_t \u001b[38;5;241m=\u001b[39m \u001b[38;5;28mself\u001b[39m\u001b[38;5;241m.\u001b[39mcost_conventional(kgt, kct, load, pgt, pct, ctax, qpvt, qrt)\n\u001b[0;32m--> 130\u001b[0m mc_t \u001b[38;5;241m=\u001b[39m \u001b[43mnp\u001b[49m\u001b[38;5;241;43m.\u001b[39;49m\u001b[43mmaximum\u001b[49m\u001b[38;5;241;43m.\u001b[39;49m\u001b[43mreduce\u001b[49m\u001b[43m(\u001b[49m\u001b[43m[\u001b[49m\u001b[43mmc_pvt\u001b[49m\u001b[43m,\u001b[49m\u001b[43m \u001b[49m\u001b[43mmc_rt\u001b[49m\u001b[43m,\u001b[49m\u001b[43m \u001b[49m\u001b[43mmc_gt\u001b[49m\u001b[43m,\u001b[49m\u001b[43m \u001b[49m\u001b[43mmc_ct\u001b[49m\u001b[43m,\u001b[49m\u001b[43m \u001b[49m\u001b[43mmc_peak_t\u001b[49m\u001b[43m,\u001b[49m\u001b[43m \u001b[49m\u001b[43mmc_peak_t\u001b[49m\u001b[43m,\u001b[49m\u001b[43m \u001b[49m\u001b[43mmc_default_t\u001b[49m\u001b[43m]\u001b[49m\u001b[43m)\u001b[49m\n\u001b[1;32m    131\u001b[0m nb_default \u001b[38;5;241m=\u001b[39m np\u001b[38;5;241m.\u001b[39msum(default \u001b[38;5;241m>\u001b[39m \u001b[38;5;241m0\u001b[39m)\n\u001b[1;32m    133\u001b[0m \u001b[38;5;28;01mreturn\u001b[39;00m (cost_pvt \u001b[38;5;241m+\u001b[39m cost_rt \u001b[38;5;241m+\u001b[39m cost_gt \u001b[38;5;241m+\u001b[39m cost_ct \u001b[38;5;241m+\u001b[39m cost_peak_t \u001b[38;5;241m+\u001b[39m cost_default_t,\n\u001b[1;32m    134\u001b[0m         \u001b[38;5;28mself\u001b[39m\u001b[38;5;241m.\u001b[39mparams\u001b[38;5;241m.\u001b[39mcintensity_g \u001b[38;5;241m*\u001b[39m qgt \u001b[38;5;241m+\u001b[39m \u001b[38;5;28mself\u001b[39m\u001b[38;5;241m.\u001b[39mparams\u001b[38;5;241m.\u001b[39mcintensity_c \u001b[38;5;241m*\u001b[39m qct \u001b[38;5;241m+\u001b[39m \u001b[38;5;28mself\u001b[39m\u001b[38;5;241m.\u001b[39mparams\u001b[38;5;241m.\u001b[39mcintensity_peak \u001b[38;5;241m*\u001b[39m qPeakt,\n\u001b[1;32m    135\u001b[0m         default,\n\u001b[0;32m   (...)\u001b[0m\n\u001b[1;32m    149\u001b[0m         mc_t\n\u001b[1;32m    150\u001b[0m         )\n",
      "\u001b[0;31mKeyboardInterrupt\u001b[0m: "
     ]
    }
   ],
   "source": [
    "############################# 0.Initialization: Terminal Value ##############################\n",
    "\n",
    "value_func_deterministic = np.zeros((simu_parameters.t, tech_parameters.n_w, tech_parameters.n_s, tech_parameters.n_g)) \n",
    "next_value = 0\n",
    "\n",
    "for t in tqdm.tqdm(range(simu_parameters.t-1, simu_parameters.t-2-simu_parameters.extension,-1)):\n",
    "    print(\"Year \" + str(t) + \": Beginning...\")\n",
    "    ctax = simu_parameters.cpath[t]\n",
    "    at = load_curve[t]\n",
    "    kct = simu_parameters.kc[t]\n",
    "    pct = cost_parameters.pc[t]\n",
    "    f_evol = cost_parameters.fossil_evol[t]\n",
    "    d = d_reference[t]\n",
    "    \n",
    "    if d == 7:\n",
    "        print('Reference: Expected value')\n",
    "        load = at + d_load_mean_deterministic\n",
    "        wind_cap = capacity_factors.wind_cf_mean_deterministic\n",
    "        solar_cap = capacity_factors.pv_cf_mean_deterministic\n",
    "        pgt = cost_parameters.pg_mean_deterministic * f_evol\n",
    "    else:\n",
    "        if d == 8:\n",
    "            print('Reference: Realistic')\n",
    "            load = at + d_load_mean\n",
    "            wind_cap = capacity_factors.wind_cf_mean\n",
    "            solar_cap = capacity_factors.pv_cf_mean\n",
    "            pgt = cost_parameters.pG_mean * f_evol\n",
    "        else:\n",
    "            print('Reference: Historical year ' + str(2015+d))\n",
    "            load = at + d_load[d]\n",
    "            wind_cap = capacity_factors.cap_factor[d]\n",
    "            solar_cap = capacity_factors.pv_cf[d]\n",
    "            pgt = cost_parameters.pg[d] * f_evol\n",
    "\n",
    "    for w, s, g in product(range(len(tech_parameters.kw)), range(len(tech_parameters.ks)), \n",
    "                           range(len(tech_parameters.kg))):\n",
    "        cost_output = iterative_functions.cost(tech_parameters.kw[w], tech_parameters.kg[g], \n",
    "                                               kct, tech_parameters.ks[s], load, solar_cap, wind_cap, pgt, pct, ctax)\n",
    "        cost = cost_output[0].sum()\n",
    "        carbon_realised = cost_output[1].sum()\n",
    "\n",
    "        mu_constraint = constraints.compute_mu_constraint(t, tech_parameters.kg[g])\n",
    "        kappa_constraint = constraints.compute_kappa_constraint(t, tech_parameters.kw[w])\n",
    "        nu_constraint = constraints.compute_nu_constraint(t, tech_parameters.ks[s])\n",
    "        lambda_constraint = constraints.compute_lambda_constraint(t, carbon_realised)\n",
    "\n",
    "        value_func_deterministic[t, w, s, g] = cost + lambda_constraint + mu_constraint + kappa_constraint + nu_constraint\n",
    "\n",
    "    value_func_deterministic[t] += simu_parameters.beta*next_value\n",
    "    next_value = value_func_deterministic[t]\n",
    "    print(\"Year \" + str(t) + \": completed\")\n",
    "\n",
    "value_t = value_func_deterministic[simu_parameters.t-simu_parameters.extension-1]\n",
    "finalvalue = GradientBoostingModel(tech_parameters.kw, tech_parameters.ks, tech_parameters.kg)\n",
    "finalvalue.train_data = value_t\n",
    "mse_in, mse_out, X_train, X_test, y_train, y_test, X_mean, X_std, y_mean, y_std = finalvalue.train_deterministic()\n",
    "\n",
    "finalvalue.save_model(simu_parameters.path_functions + \"\\\\value_func_deterministic\" + \n",
    "                      str(simu_parameters.t-simu_parameters.extension) + \".pkl\")\n",
    "\n",
    "time_elapsed = (time.time() - time_start)\n",
    "print(time_elapsed / 60, \"min\")"
   ]
  },
  {
   "cell_type": "code",
   "execution_count": null,
   "metadata": {
    "ExecuteTime": {
     "end_time": "2024-12-03T20:46:43.859301Z",
     "start_time": "2024-12-03T20:46:22.223795Z"
    },
    "collapsed": false,
    "jupyter": {
     "outputs_hidden": false
    }
   },
   "outputs": [],
   "source": [
    "############################## 1.Backward algorithm ##############################\n",
    "\n",
    "next_value_func = GradientBoostingModel(tech_parameters.kw, tech_parameters.ks, tech_parameters.kg)\n",
    "next_value_func.train_data = value_t\n",
    "model, scaler_X, scaler_y, train_data_mean, train_data_std = next_value_func.load_model(simu_parameters.path_functions + \"\\\\value_func_deterministic\" + str(simu_parameters.t-simu_parameters.extension) + \".pkl\")\n",
    "next_value_func.model = model\n",
    "next_value_func.scaler_X = scaler_X\n",
    "next_value_func.scaler_y = scaler_y\n",
    "\n",
    "for t in tqdm.tqdm(range(simu_parameters.t-simu_parameters.extension-2, -1, -1)):\n",
    "\n",
    "    print(\"Year \" + str(t) + \": Beginning...\")\n",
    "    ctax = simu_parameters.cpath[t]\n",
    "    at = load_curve[t]\n",
    "    kct = simu_parameters.kc[t]\n",
    "    pct = cost_parameters.pc[t]\n",
    "    f_evol = cost_parameters.fossil_evol[t]\n",
    "    d = d_reference[t]\n",
    "    if d == 7:\n",
    "        print('Reference: Expected value')\n",
    "        load = at + d_load_mean_deterministic\n",
    "        wind_cap = capacity_factors.wind_cf_mean_deterministic\n",
    "        solar_cap = capacity_factors.pv_cf_mean_deterministic\n",
    "        pgt = cost_parameters.pg_mean_deterministic * f_evol\n",
    "    else:\n",
    "        if d == 8:\n",
    "            print('Reference: Realistic')\n",
    "            load = at + d_load_mean\n",
    "            wind_cap = capacity_factors.wind_cf_mean\n",
    "            solar_cap = capacity_factors.pv_cf_mean\n",
    "            pgt = cost_parameters.pG_mean * f_evol\n",
    "        else:\n",
    "            print('Reference: Historical year ' + str(2015+d))\n",
    "            load = at + d_load[d]\n",
    "            wind_cap = capacity_factors.cap_factor[d]\n",
    "            solar_cap = capacity_factors.pv_cf[d]\n",
    "            pgt = cost_parameters.pg[d] * f_evol\n",
    "        \n",
    "    for w, s, g in product(range(len(tech_parameters.kw)), range(len(tech_parameters.ks)), range(len(tech_parameters.kg))):\n",
    "        \n",
    "        X, Y, Z = np.meshgrid(np.linspace(tech_parameters.kwlow - tech_parameters.kw[w], tech_parameters.kwbound - tech_parameters.kw[w], \n",
    "                                          tech_parameters.n_w),\n",
    "                              np.linspace(tech_parameters.kslow - tech_parameters.ks[s], tech_parameters.ksbound - tech_parameters.ks[s], \n",
    "                                          tech_parameters.n_s),\n",
    "                              np.linspace(tech_parameters.kglow - tech_parameters.kg[g], tech_parameters.kgbound - tech_parameters.kg[g], \n",
    "                                          tech_parameters.n_g), indexing='ij')\n",
    "\n",
    "        grid = investment_functions.invest(X, Y, Z, t) + (simu_parameters.beta)*(value_func_deterministic[t+1])\n",
    "        grid_minimum = np.unravel_index(np.argmin(grid), grid.shape)\n",
    "        cost_output = iterative_functions.cost(tech_parameters.kw[w], tech_parameters.kg[g], kct, tech_parameters.ks[s], \n",
    "                                               load, solar_cap, wind_cap, pgt, pct, ctax)\n",
    "        cost = cost_output[0].sum()\n",
    "        carbon_realised = cost_output[1].sum()\n",
    "\n",
    "        mu_constraint = constraints.compute_mu_constraint(t, tech_parameters.kg[g])\n",
    "        kappa_constraint = constraints.compute_kappa_constraint(t, tech_parameters.kw[w])\n",
    "        nu_constraint = constraints.compute_nu_constraint(t, tech_parameters.ks[s])\n",
    "        lambda_constraint = constraints.compute_lambda_constraint(t, carbon_realised)\n",
    "\n",
    "        next_value = next_value_func.minimize_quantity(tech_parameters.kw[w], tech_parameters.ks[s], tech_parameters.kg[g], \n",
    "                                                       t, grid_minimum)[3]\n",
    "        value_func_deterministic[t, w, s, g] = cost + lambda_constraint + mu_constraint + kappa_constraint + nu_constraint + next_value\n",
    "\n",
    "    value_t = value_func_deterministic[t]\n",
    "    model = GradientBoostingModel(tech_parameters.kw, tech_parameters.ks, tech_parameters.kg)\n",
    "    model.train_data = value_t\n",
    "    mse_in, mse_out, X_train, X_test, y_train, y_test, X_mean, X_std, y_mean, y_std = model.train_deterministic()\n",
    "\n",
    "    model.save_model(simu_parameters.path_functions + \"\\\\value_func_deterministic\" + str(t) + \".pkl\")\n",
    "\n",
    "    next_value_func = GradientBoostingModel(tech_parameters.kw, tech_parameters.ks, tech_parameters.kg)\n",
    "    next_value_func.train_data = value_t\n",
    "    model, scaler_X, scaler_y, train_data_mean, train_data_std = next_value_func.load_model(simu_parameters.path_functions \n",
    "                                                                                            + \"\\\\value_func_deterministic\" + str(t) + \".pkl\")\n",
    "    next_value_func.model = model\n",
    "    next_value_func.scaler_X = scaler_X\n",
    "    next_value_func.scaler_y = scaler_y\n",
    "\n",
    "print(\"Mean Squared Error in sample:\", mse_in)\n",
    "print(\"Mean Squared Error out sample:\", mse_out)\n"
   ]
  },
  {
   "cell_type": "code",
   "execution_count": null,
   "metadata": {
    "ExecuteTime": {
     "end_time": "2024-12-03T20:46:43.994329Z",
     "start_time": "2024-12-03T20:46:43.981897Z"
    },
    "collapsed": false,
    "jupyter": {
     "outputs_hidden": false
    }
   },
   "outputs": [],
   "source": [
    "############################## 2. Initial Investment ##############################\n",
    "\n",
    "X0, Y0, Z0 = np.meshgrid(np.linspace(tech_parameters.kwlow - tech_parameters.kw0, tech_parameters.kwbound - tech_parameters.kw0, tech_parameters.n_w),\n",
    "                              np.linspace(tech_parameters.kslow - tech_parameters.ks0, tech_parameters.ksbound - tech_parameters.ks0, tech_parameters.n_s),\n",
    "                              np.linspace(tech_parameters.kglow - tech_parameters.kg0, tech_parameters.kgbound - tech_parameters.kg0, tech_parameters.n_g), indexing='ij')\n",
    "\n",
    "invest_initial = investment_functions.invest(X0, Y0, Z0, 0)\n",
    "\n",
    "value_func_deterministic[0] = value_func_deterministic[0] + invest_initial\n",
    "\n",
    "model = GradientBoostingModel(tech_parameters.kw, tech_parameters.ks, tech_parameters.kg)\n",
    "model.train_data = value_func_deterministic[0]\n",
    "mse_in, mse_out, X_train, X_test, y_train, y_test, X_mean, X_std, y_mean, y_std = model.train_deterministic(sample_size=gradient_parameters.n_sample)\n",
    "\n",
    "time_elapsed = (time.time() - time_start)\n",
    "print(time_elapsed/60, \"min\")"
   ]
  },
  {
   "cell_type": "code",
   "execution_count": null,
   "metadata": {
    "ExecuteTime": {
     "end_time": "2024-12-03T20:46:51.059232Z",
     "start_time": "2024-12-03T20:46:48.473139Z"
    },
    "collapsed": false,
    "jupyter": {
     "outputs_hidden": false
    }
   },
   "outputs": [],
   "source": [
    "############################## 3. Save Optimal Path and export of the results ##############################\n",
    "\n",
    "deterministic_optimal_trajectory = np.zeros((simu_parameters.t-simu_parameters.extension, 3))\n",
    "kw_t, ks_t, kg_t = tech_parameters.kw0, tech_parameters.ks0, tech_parameters.kg0\n",
    "final_model = GradientBoostingModel(kw_t, ks_t, kg_t)\n",
    "deterministic_optimal_trajectory[0] = [tech_parameters.kw0, tech_parameters.ks0, tech_parameters.kg0]\n",
    "\n",
    "for t in range(0, simu_parameters.t-simu_parameters.extension-1):\n",
    "    model, scaler_X, scaler_y, train_data_mean, train_data_std = final_model.load_model(simu_parameters.path_functions + \"\\\\value_func_deterministic\" + str(t) + \".pkl\")\n",
    "    final_model.model = model\n",
    "    final_model.scaler_X = scaler_X\n",
    "    final_model.scaler_y = scaler_y\n",
    "    X, Y, Z = np.meshgrid(np.linspace(tech_parameters.kwlow - kw_t, tech_parameters.kwbound - kw_t, tech_parameters.n_w),\n",
    "                                  np.linspace(tech_parameters.kslow - ks_t, tech_parameters.ksbound - ks_t, tech_parameters.n_s),\n",
    "                                  np.linspace(tech_parameters.kglow - kg_t, tech_parameters.kgbound - kg_t, tech_parameters.n_g), indexing='ij')\n",
    "\n",
    "    grid = investment_functions.invest(X, Y, Z, t) + simu_parameters.beta*(value_func_deterministic[t+1])\n",
    "    grid_minimum = np.unravel_index(np.argmin(grid), grid.shape)\n",
    "    kw_t, ks_t, kg_t, value = final_model.minimize_quantity(kw_t, ks_t, kg_t, t, grid_minimum)\n",
    "    deterministic_optimal_trajectory[t+1] = [kw_t, ks_t, kg_t]\n",
    "\n",
    "deterministic_optimal_df = pd.DataFrame(deterministic_optimal_trajectory, columns=['KW', 'KPV', 'KG'])\n",
    "deterministic_optimal_df.to_csv(os.path.join(simu_parameters.path_deterministic, 'deterministic_optimal_trajectory.csv'), index=False)\n",
    "\n",
    "print(\"Optimal deterministic trajectory\", deterministic_optimal_trajectory)\n",
    "save_results_to_csv('deterministic', deterministic_optimal_trajectory)\n",
    "\n",
    "time_elapsed = (time.time() - time_start)\n",
    "print(time_elapsed/60, \"min\")"
   ]
  }
 ],
 "metadata": {
  "kernelspec": {
   "display_name": "dipu_env",
   "language": "python",
   "name": "python3"
  },
  "language_info": {
   "codemirror_mode": {
    "name": "ipython",
    "version": 3
   },
   "file_extension": ".py",
   "mimetype": "text/x-python",
   "name": "python",
   "nbconvert_exporter": "python",
   "pygments_lexer": "ipython3",
   "version": "3.12.3"
  }
 },
 "nbformat": 4,
 "nbformat_minor": 4
}
